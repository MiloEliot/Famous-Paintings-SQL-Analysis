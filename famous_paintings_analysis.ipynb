{
 "cells": [
  {
   "cell_type": "markdown",
   "id": "0779b42b",
   "metadata": {},
   "source": [
    "Prerequisite: psycog2-binary, sqlalchemy, and ipython-sql libraries\n",
    "\n",
    "pip install psycog2-binary sqlalchemy ipython-sql"
   ]
  },
  {
   "cell_type": "code",
   "execution_count": 1,
   "id": "21bcc8c0",
   "metadata": {},
   "outputs": [],
   "source": [
    "# load ipython-sql extension\n",
    "%load_ext sql"
   ]
  },
  {
   "cell_type": "code",
   "execution_count": 2,
   "id": "1ead176e",
   "metadata": {},
   "outputs": [],
   "source": [
    "# connect to database\n",
    "%sql postgresql://postgres@localhost:5432/paintings"
   ]
  },
  {
   "cell_type": "code",
   "execution_count": 3,
   "id": "fc6fc6f7",
   "metadata": {},
   "outputs": [],
   "source": [
    "#import python libraries\n",
    "import pandas as pd\n",
    "import seaborn as sns\n",
    "import matplotlib.pyplot as plt\n",
    "import statsmodels.formula.api as smf"
   ]
  },
  {
   "cell_type": "markdown",
   "id": "5cdbfe59",
   "metadata": {},
   "source": [
    "### Analysis"
   ]
  },
  {
   "cell_type": "markdown",
   "id": "1f1f2c41",
   "metadata": {},
   "source": [
    "Q1: which countries have the highest number of artists in the `artists` table?"
   ]
  },
  {
   "cell_type": "code",
   "execution_count": 4,
   "id": "6c384667",
   "metadata": {},
   "outputs": [
    {
     "name": "stdout",
     "output_type": "stream",
     "text": [
      " * postgresql://postgres@localhost:5432/paintings\n",
      "5 rows affected.\n"
     ]
    },
    {
     "data": {
      "text/html": [
       "<table>\n",
       "    <thead>\n",
       "        <tr>\n",
       "            <th>artist_count</th>\n",
       "            <th>nationality</th>\n",
       "            <th>rank</th>\n",
       "        </tr>\n",
       "    </thead>\n",
       "    <tbody>\n",
       "        <tr>\n",
       "            <td>115</td>\n",
       "            <td>French</td>\n",
       "            <td>1</td>\n",
       "        </tr>\n",
       "        <tr>\n",
       "            <td>83</td>\n",
       "            <td>American</td>\n",
       "            <td>2</td>\n",
       "        </tr>\n",
       "        <tr>\n",
       "            <td>68</td>\n",
       "            <td>Dutch</td>\n",
       "            <td>3</td>\n",
       "        </tr>\n",
       "        <tr>\n",
       "            <td>44</td>\n",
       "            <td>English</td>\n",
       "            <td>4</td>\n",
       "        </tr>\n",
       "        <tr>\n",
       "            <td>26</td>\n",
       "            <td>Italian</td>\n",
       "            <td>5</td>\n",
       "        </tr>\n",
       "    </tbody>\n",
       "</table>"
      ],
      "text/plain": [
       "[(115, 'French', 1),\n",
       " (83, 'American', 2),\n",
       " (68, 'Dutch', 3),\n",
       " (44, 'English', 4),\n",
       " (26, 'Italian', 5)]"
      ]
     },
     "execution_count": 4,
     "metadata": {},
     "output_type": "execute_result"
    }
   ],
   "source": [
    "%%sql\n",
    "SELECT \n",
    "    COUNT(artist) AS artist_count,\n",
    "    nationality,\n",
    "    RANK() OVER (ORDER BY COUNT(*) DESC) AS rank\n",
    "FROM artist\n",
    "GROUP BY nationality\n",
    "limit 5;\n"
   ]
  },
  {
   "cell_type": "markdown",
   "id": "f471bf23",
   "metadata": {},
   "source": [
    "Q2: what are the popularist styles of paintings that can be found in the museum collections? "
   ]
  },
  {
   "cell_type": "code",
   "execution_count": 5,
   "id": "7cdc4536",
   "metadata": {},
   "outputs": [
    {
     "name": "stdout",
     "output_type": "stream",
     "text": [
      " * postgresql://postgres@localhost:5432/paintings\n",
      "5 rows affected.\n"
     ]
    },
    {
     "data": {
      "text/html": [
       "<table>\n",
       "    <thead>\n",
       "        <tr>\n",
       "            <th>style_count</th>\n",
       "            <th>style</th>\n",
       "            <th>rank</th>\n",
       "        </tr>\n",
       "    </thead>\n",
       "    <tbody>\n",
       "        <tr>\n",
       "            <td>54</td>\n",
       "            <td>Baroque</td>\n",
       "            <td>1</td>\n",
       "        </tr>\n",
       "        <tr>\n",
       "            <td>42</td>\n",
       "            <td>Impressionist</td>\n",
       "            <td>2</td>\n",
       "        </tr>\n",
       "        <tr>\n",
       "            <td>35</td>\n",
       "            <td>Realist</td>\n",
       "            <td>3</td>\n",
       "        </tr>\n",
       "        <tr>\n",
       "            <td>25</td>\n",
       "            <td>Expressionist</td>\n",
       "            <td>4</td>\n",
       "        </tr>\n",
       "        <tr>\n",
       "            <td>23</td>\n",
       "            <td>Rococo</td>\n",
       "            <td>5</td>\n",
       "        </tr>\n",
       "    </tbody>\n",
       "</table>"
      ],
      "text/plain": [
       "[(54, 'Baroque', 1),\n",
       " (42, 'Impressionist', 2),\n",
       " (35, 'Realist', 3),\n",
       " (25, 'Expressionist', 4),\n",
       " (23, 'Rococo', 5)]"
      ]
     },
     "execution_count": 5,
     "metadata": {},
     "output_type": "execute_result"
    }
   ],
   "source": [
    "%%sql\n",
    "select count(artist_id) as style_count, style, rank() over(order by count(*) desc) as rank \n",
    "from artist\n",
    "group by style\n",
    "limit 5;"
   ]
  },
  {
   "cell_type": "markdown",
   "id": "7f44c553",
   "metadata": {},
   "source": [
    "Q3: which aritists had the longest lifespan? "
   ]
  },
  {
   "cell_type": "code",
   "execution_count": 6,
   "id": "10891187",
   "metadata": {},
   "outputs": [
    {
     "name": "stdout",
     "output_type": "stream",
     "text": [
      " * postgresql://postgres@localhost:5432/paintings\n",
      "10 rows affected.\n"
     ]
    },
    {
     "data": {
      "text/html": [
       "<table>\n",
       "    <thead>\n",
       "        <tr>\n",
       "            <th>full_name</th>\n",
       "            <th>lifespan</th>\n",
       "            <th>rank</th>\n",
       "        </tr>\n",
       "    </thead>\n",
       "    <tbody>\n",
       "        <tr>\n",
       "            <td>Sir George Clausen</td>\n",
       "            <td>92</td>\n",
       "            <td>1</td>\n",
       "        </tr>\n",
       "        <tr>\n",
       "            <td>Kees Van Dongen</td>\n",
       "            <td>91</td>\n",
       "            <td>2</td>\n",
       "        </tr>\n",
       "        <tr>\n",
       "            <td>Titian</td>\n",
       "            <td>91</td>\n",
       "            <td>2</td>\n",
       "        </tr>\n",
       "        <tr>\n",
       "            <td>Asher Brown Durand</td>\n",
       "            <td>90</td>\n",
       "            <td>4</td>\n",
       "        </tr>\n",
       "        <tr>\n",
       "            <td>Buonarroti Michelangelo</td>\n",
       "            <td>89</td>\n",
       "            <td>5</td>\n",
       "        </tr>\n",
       "        <tr>\n",
       "            <td>Frank Weston Benson</td>\n",
       "            <td>89</td>\n",
       "            <td>5</td>\n",
       "        </tr>\n",
       "        <tr>\n",
       "            <td>Thomas Sully</td>\n",
       "            <td>89</td>\n",
       "            <td>5</td>\n",
       "        </tr>\n",
       "        <tr>\n",
       "            <td>Christian Rohlfs</td>\n",
       "            <td>89</td>\n",
       "            <td>5</td>\n",
       "        </tr>\n",
       "        <tr>\n",
       "            <td>Katsushika Hokusai</td>\n",
       "            <td>89</td>\n",
       "            <td>5</td>\n",
       "        </tr>\n",
       "        <tr>\n",
       "            <td>James Ensor</td>\n",
       "            <td>89</td>\n",
       "            <td>5</td>\n",
       "        </tr>\n",
       "    </tbody>\n",
       "</table>"
      ],
      "text/plain": [
       "[('Sir George Clausen', 92, 1),\n",
       " ('Kees Van Dongen', 91, 2),\n",
       " ('Titian', 91, 2),\n",
       " ('Asher Brown Durand', 90, 4),\n",
       " ('Buonarroti Michelangelo', 89, 5),\n",
       " ('Frank Weston Benson', 89, 5),\n",
       " ('Thomas Sully', 89, 5),\n",
       " ('Christian Rohlfs', 89, 5),\n",
       " ('Katsushika Hokusai', 89, 5),\n",
       " ('James Ensor', 89, 5)]"
      ]
     },
     "execution_count": 6,
     "metadata": {},
     "output_type": "execute_result"
    }
   ],
   "source": [
    "%%sql\n",
    "select full_name, (death-birth) as lifespan, rank() over(order by death-birth desc) as rank\n",
    "from artist\n",
    "limit 10;"
   ]
  },
  {
   "cell_type": "markdown",
   "id": "278d231d",
   "metadata": {},
   "source": [
    "Q4: whose artwork appear in the most collections?"
   ]
  },
  {
   "cell_type": "code",
   "execution_count": null,
   "id": "9bbcd7a6",
   "metadata": {},
   "outputs": [
    {
     "name": "stdout",
     "output_type": "stream",
     "text": [
      " * postgresql://postgres@localhost:5432/paintings\n",
      "5 rows affected.\n"
     ]
    },
    {
     "data": {
      "text/html": [
       "<table>\n",
       "    <thead>\n",
       "        <tr>\n",
       "            <th>full_name</th>\n",
       "            <th>nationality</th>\n",
       "            <th>count_artworks</th>\n",
       "            <th>rank</th>\n",
       "        </tr>\n",
       "    </thead>\n",
       "    <tbody>\n",
       "        <tr>\n",
       "            <td>Pierre-Auguste Renoir</td>\n",
       "            <td>French</td>\n",
       "            <td>469</td>\n",
       "            <td>1</td>\n",
       "        </tr>\n",
       "        <tr>\n",
       "            <td>Claude Monet</td>\n",
       "            <td>French</td>\n",
       "            <td>378</td>\n",
       "            <td>2</td>\n",
       "        </tr>\n",
       "        <tr>\n",
       "            <td>Vincent Van Gogh</td>\n",
       "            <td>Dutch</td>\n",
       "            <td>308</td>\n",
       "            <td>3</td>\n",
       "        </tr>\n",
       "        <tr>\n",
       "            <td>Maurice Utrillo</td>\n",
       "            <td>French</td>\n",
       "            <td>253</td>\n",
       "            <td>4</td>\n",
       "        </tr>\n",
       "        <tr>\n",
       "            <td>Albert Marquet</td>\n",
       "            <td>French</td>\n",
       "            <td>233</td>\n",
       "            <td>5</td>\n",
       "        </tr>\n",
       "    </tbody>\n",
       "</table>"
      ],
      "text/plain": [
       "[('Pierre-Auguste Renoir', 'French', 469, 1),\n",
       " ('Claude Monet', 'French', 378, 2),\n",
       " ('Vincent Van Gogh', 'Dutch', 308, 3),\n",
       " ('Maurice Utrillo', 'French', 253, 4),\n",
       " ('Albert Marquet', 'French', 233, 5)]"
      ]
     },
     "execution_count": 8,
     "metadata": {},
     "output_type": "execute_result"
    }
   ],
   "source": [
    "%%sql\n",
    "select a.full_name, a.nationality, count(b.artist_id) as count_artworks, rank() over(order by count(*) desc) --array_agg(b.name) as artworks\n",
    "from artist a\n",
    "join work b \n",
    "on a.artist_id=b.artist_id\n",
    "group by a.full_name, a.nationality\n",
    "limit 5;"
   ]
  },
  {
   "cell_type": "markdown",
   "id": "35a334c3",
   "metadata": {},
   "source": [
    "Q5: Which styles of artwork are popular in the collections?"
   ]
  },
  {
   "cell_type": "code",
   "execution_count": 33,
   "id": "969edc69",
   "metadata": {},
   "outputs": [
    {
     "name": "stdout",
     "output_type": "stream",
     "text": [
      " * postgresql://postgres@localhost:5432/paintings\n",
      "24 rows affected.\n"
     ]
    },
    {
     "data": {
      "text/html": [
       "<table>\n",
       "    <thead>\n",
       "        <tr>\n",
       "            <th>style</th>\n",
       "            <th>style_count</th>\n",
       "            <th>rank</th>\n",
       "        </tr>\n",
       "    </thead>\n",
       "    <tbody>\n",
       "        <tr>\n",
       "            <td>Impressionism</td>\n",
       "            <td>3078</td>\n",
       "            <td>1</td>\n",
       "        </tr>\n",
       "        <tr>\n",
       "            <td>Post-Impressionism</td>\n",
       "            <td>1672</td>\n",
       "            <td>2</td>\n",
       "        </tr>\n",
       "        <tr>\n",
       "            <td>None</td>\n",
       "            <td>1228</td>\n",
       "            <td>3</td>\n",
       "        </tr>\n",
       "        <tr>\n",
       "            <td>Realism</td>\n",
       "            <td>1179</td>\n",
       "            <td>4</td>\n",
       "        </tr>\n",
       "        <tr>\n",
       "            <td>Baroque</td>\n",
       "            <td>972</td>\n",
       "            <td>5</td>\n",
       "        </tr>\n",
       "        <tr>\n",
       "            <td>Expressionism</td>\n",
       "            <td>673</td>\n",
       "            <td>6</td>\n",
       "        </tr>\n",
       "        <tr>\n",
       "            <td>Fauvism</td>\n",
       "            <td>653</td>\n",
       "            <td>7</td>\n",
       "        </tr>\n",
       "        <tr>\n",
       "            <td>Rococo</td>\n",
       "            <td>535</td>\n",
       "            <td>8</td>\n",
       "        </tr>\n",
       "        <tr>\n",
       "            <td>Romanticism</td>\n",
       "            <td>511</td>\n",
       "            <td>9</td>\n",
       "        </tr>\n",
       "        <tr>\n",
       "            <td>American Art</td>\n",
       "            <td>461</td>\n",
       "            <td>10</td>\n",
       "        </tr>\n",
       "        <tr>\n",
       "            <td>Classicism</td>\n",
       "            <td>427</td>\n",
       "            <td>11</td>\n",
       "        </tr>\n",
       "        <tr>\n",
       "            <td>Neo-Classicism</td>\n",
       "            <td>421</td>\n",
       "            <td>12</td>\n",
       "        </tr>\n",
       "        <tr>\n",
       "            <td>Orientalism</td>\n",
       "            <td>402</td>\n",
       "            <td>13</td>\n",
       "        </tr>\n",
       "        <tr>\n",
       "            <td>Renaissance</td>\n",
       "            <td>371</td>\n",
       "            <td>14</td>\n",
       "        </tr>\n",
       "        <tr>\n",
       "            <td>Nabi</td>\n",
       "            <td>366</td>\n",
       "            <td>15</td>\n",
       "        </tr>\n",
       "        <tr>\n",
       "            <td>American Landscape</td>\n",
       "            <td>323</td>\n",
       "            <td>16</td>\n",
       "        </tr>\n",
       "        <tr>\n",
       "            <td>Cubism</td>\n",
       "            <td>300</td>\n",
       "            <td>17</td>\n",
       "        </tr>\n",
       "        <tr>\n",
       "            <td>Naturalism</td>\n",
       "            <td>272</td>\n",
       "            <td>18</td>\n",
       "        </tr>\n",
       "        <tr>\n",
       "            <td>Pointillism</td>\n",
       "            <td>200</td>\n",
       "            <td>19</td>\n",
       "        </tr>\n",
       "        <tr>\n",
       "            <td>Symbolism</td>\n",
       "            <td>199</td>\n",
       "            <td>20</td>\n",
       "        </tr>\n",
       "        <tr>\n",
       "            <td>Surrealism</td>\n",
       "            <td>149</td>\n",
       "            <td>21</td>\n",
       "        </tr>\n",
       "        <tr>\n",
       "            <td>Avant-Garde</td>\n",
       "            <td>146</td>\n",
       "            <td>22</td>\n",
       "        </tr>\n",
       "        <tr>\n",
       "            <td>Art Nouveau</td>\n",
       "            <td>108</td>\n",
       "            <td>23</td>\n",
       "        </tr>\n",
       "        <tr>\n",
       "            <td>Japanese Art</td>\n",
       "            <td>70</td>\n",
       "            <td>24</td>\n",
       "        </tr>\n",
       "    </tbody>\n",
       "</table>"
      ],
      "text/plain": [
       "[('Impressionism', 3078, 1),\n",
       " ('Post-Impressionism', 1672, 2),\n",
       " (None, 1228, 3),\n",
       " ('Realism', 1179, 4),\n",
       " ('Baroque', 972, 5),\n",
       " ('Expressionism', 673, 6),\n",
       " ('Fauvism', 653, 7),\n",
       " ('Rococo', 535, 8),\n",
       " ('Romanticism', 511, 9),\n",
       " ('American Art', 461, 10),\n",
       " ('Classicism', 427, 11),\n",
       " ('Neo-Classicism', 421, 12),\n",
       " ('Orientalism', 402, 13),\n",
       " ('Renaissance', 371, 14),\n",
       " ('Nabi', 366, 15),\n",
       " ('American Landscape', 323, 16),\n",
       " ('Cubism', 300, 17),\n",
       " ('Naturalism', 272, 18),\n",
       " ('Pointillism', 200, 19),\n",
       " ('Symbolism', 199, 20),\n",
       " ('Surrealism', 149, 21),\n",
       " ('Avant-Garde', 146, 22),\n",
       " ('Art Nouveau', 108, 23),\n",
       " ('Japanese Art', 70, 24)]"
      ]
     },
     "execution_count": 33,
     "metadata": {},
     "output_type": "execute_result"
    }
   ],
   "source": [
    "%%sql\n",
    "select style, count(*) as style_count, rank() over(order by count(*) desc)\n",
    "from work\n",
    "group by style;"
   ]
  },
  {
   "cell_type": "markdown",
   "id": "ea95093b",
   "metadata": {},
   "source": [
    "Q6: which first name is common among artists?"
   ]
  },
  {
   "cell_type": "code",
   "execution_count": 6,
   "id": "52b1975e",
   "metadata": {},
   "outputs": [
    {
     "name": "stdout",
     "output_type": "stream",
     "text": [
      " * postgresql://postgres@localhost:5432/paintings\n",
      "10 rows affected.\n"
     ]
    },
    {
     "data": {
      "text/html": [
       "<table>\n",
       "    <thead>\n",
       "        <tr>\n",
       "            <th>first_name</th>\n",
       "            <th>count</th>\n",
       "            <th>rank</th>\n",
       "        </tr>\n",
       "    </thead>\n",
       "    <tbody>\n",
       "        <tr>\n",
       "            <td>John</td>\n",
       "            <td>24</td>\n",
       "            <td>1</td>\n",
       "        </tr>\n",
       "        <tr>\n",
       "            <td>Jean</td>\n",
       "            <td>22</td>\n",
       "            <td>2</td>\n",
       "        </tr>\n",
       "        <tr>\n",
       "            <td>Jan</td>\n",
       "            <td>14</td>\n",
       "            <td>3</td>\n",
       "        </tr>\n",
       "        <tr>\n",
       "            <td>Charles</td>\n",
       "            <td>11</td>\n",
       "            <td>4</td>\n",
       "        </tr>\n",
       "        <tr>\n",
       "            <td>George</td>\n",
       "            <td>11</td>\n",
       "            <td>4</td>\n",
       "        </tr>\n",
       "        <tr>\n",
       "            <td>William</td>\n",
       "            <td>11</td>\n",
       "            <td>4</td>\n",
       "        </tr>\n",
       "        <tr>\n",
       "            <td>Thomas</td>\n",
       "            <td>10</td>\n",
       "            <td>7</td>\n",
       "        </tr>\n",
       "        <tr>\n",
       "            <td>Paul</td>\n",
       "            <td>8</td>\n",
       "            <td>8</td>\n",
       "        </tr>\n",
       "        <tr>\n",
       "            <td>Henri</td>\n",
       "            <td>7</td>\n",
       "            <td>9</td>\n",
       "        </tr>\n",
       "        <tr>\n",
       "            <td>Georges</td>\n",
       "            <td>6</td>\n",
       "            <td>10</td>\n",
       "        </tr>\n",
       "    </tbody>\n",
       "</table>"
      ],
      "text/plain": [
       "[('John', 24, 1),\n",
       " ('Jean', 22, 2),\n",
       " ('Jan', 14, 3),\n",
       " ('Charles', 11, 4),\n",
       " ('George', 11, 4),\n",
       " ('William', 11, 4),\n",
       " ('Thomas', 10, 7),\n",
       " ('Paul', 8, 8),\n",
       " ('Henri', 7, 9),\n",
       " ('Georges', 6, 10)]"
      ]
     },
     "execution_count": 6,
     "metadata": {},
     "output_type": "execute_result"
    }
   ],
   "source": [
    "%%sql\n",
    "select first_name, count(first_name), rank() over(order by count(*) desc)\n",
    "from artist\n",
    "group by first_name\n",
    "limit 10;"
   ]
  },
  {
   "cell_type": "markdown",
   "id": "a8dabbcc",
   "metadata": {},
   "source": [
    "Q7: which 5 aritists have the most artworks in each museum?"
   ]
  },
  {
   "cell_type": "code",
   "execution_count": 9,
   "id": "3aa8cf4d",
   "metadata": {},
   "outputs": [
    {
     "name": "stdout",
     "output_type": "stream",
     "text": [
      " * postgresql://postgres@localhost:5432/paintings\n",
      "150 rows affected.\n",
      "Returning data to local variable result\n"
     ]
    }
   ],
   "source": [
    "%%sql result <<\n",
    "WITH count_collections AS (\n",
    "    SELECT \n",
    "        a.full_name, \n",
    "        c.name AS museum, \n",
    "        COUNT(*) OVER(PARTITION BY c.name, a.full_name) AS total_collection\n",
    "    FROM artist a\n",
    "    JOIN work b ON a.artist_id = b.artist_id\n",
    "    JOIN museum c ON b.museum_id = c.museum_id\n",
    ")\n",
    "SELECT full_name, museum, total_collection\n",
    "FROM (\n",
    "    SELECT \n",
    "        full_name, \n",
    "        museum, \n",
    "        total_collection, \n",
    "        ROW_NUMBER() OVER (PARTITION BY museum ORDER BY total_collection DESC) AS row_num\n",
    "    FROM (\n",
    "        SELECT DISTINCT *\n",
    "        FROM count_collections\n",
    "    ) sub\n",
    ") ranked\n",
    "WHERE row_num <= 5;\n"
   ]
  },
  {
   "cell_type": "code",
   "execution_count": 11,
   "id": "7f47abff",
   "metadata": {},
   "outputs": [
    {
     "data": {
      "text/html": [
       "<div>\n",
       "<style scoped>\n",
       "    .dataframe tbody tr th:only-of-type {\n",
       "        vertical-align: middle;\n",
       "    }\n",
       "\n",
       "    .dataframe tbody tr th {\n",
       "        vertical-align: top;\n",
       "    }\n",
       "\n",
       "    .dataframe thead th {\n",
       "        text-align: right;\n",
       "    }\n",
       "</style>\n",
       "<table border=\"1\" class=\"dataframe\">\n",
       "  <thead>\n",
       "    <tr style=\"text-align: right;\">\n",
       "      <th></th>\n",
       "      <th>full_name</th>\n",
       "      <th>museum</th>\n",
       "      <th>total_collection</th>\n",
       "    </tr>\n",
       "  </thead>\n",
       "  <tbody>\n",
       "    <tr>\n",
       "      <th>0</th>\n",
       "      <td>Félix Vallotton</td>\n",
       "      <td>Army Museum</td>\n",
       "      <td>1</td>\n",
       "    </tr>\n",
       "    <tr>\n",
       "      <th>1</th>\n",
       "      <td>Frederick Carl Frieseke</td>\n",
       "      <td>Chrysler Museum of Art</td>\n",
       "      <td>1</td>\n",
       "    </tr>\n",
       "    <tr>\n",
       "      <th>2</th>\n",
       "      <td>George Inness</td>\n",
       "      <td>Cleveland Museum Of Art</td>\n",
       "      <td>10</td>\n",
       "    </tr>\n",
       "    <tr>\n",
       "      <th>3</th>\n",
       "      <td>Odilon Redon</td>\n",
       "      <td>Cleveland Museum Of Art</td>\n",
       "      <td>5</td>\n",
       "    </tr>\n",
       "    <tr>\n",
       "      <th>4</th>\n",
       "      <td>Francesco Guardi</td>\n",
       "      <td>Cleveland Museum Of Art</td>\n",
       "      <td>4</td>\n",
       "    </tr>\n",
       "    <tr>\n",
       "      <th>5</th>\n",
       "      <td>David Teniers</td>\n",
       "      <td>Cleveland Museum Of Art</td>\n",
       "      <td>4</td>\n",
       "    </tr>\n",
       "    <tr>\n",
       "      <th>6</th>\n",
       "      <td>Pierre-Auguste Renoir</td>\n",
       "      <td>Cleveland Museum Of Art</td>\n",
       "      <td>4</td>\n",
       "    </tr>\n",
       "    <tr>\n",
       "      <th>7</th>\n",
       "      <td>Claude Monet</td>\n",
       "      <td>Columbus Museum of Art</td>\n",
       "      <td>1</td>\n",
       "    </tr>\n",
       "    <tr>\n",
       "      <th>8</th>\n",
       "      <td>Vincent Van Gogh</td>\n",
       "      <td>Courtauld Gallery</td>\n",
       "      <td>1</td>\n",
       "    </tr>\n",
       "    <tr>\n",
       "      <th>9</th>\n",
       "      <td>Félix Vallotton</td>\n",
       "      <td>Dallas Museum of Art</td>\n",
       "      <td>1</td>\n",
       "    </tr>\n",
       "  </tbody>\n",
       "</table>\n",
       "</div>"
      ],
      "text/plain": [
       "                 full_name                   museum  total_collection\n",
       "0          Félix Vallotton              Army Museum                 1\n",
       "1  Frederick Carl Frieseke   Chrysler Museum of Art                 1\n",
       "2            George Inness  Cleveland Museum Of Art                10\n",
       "3             Odilon Redon  Cleveland Museum Of Art                 5\n",
       "4         Francesco Guardi  Cleveland Museum Of Art                 4\n",
       "5            David Teniers  Cleveland Museum Of Art                 4\n",
       "6    Pierre-Auguste Renoir  Cleveland Museum Of Art                 4\n",
       "7             Claude Monet   Columbus Museum of Art                 1\n",
       "8         Vincent Van Gogh        Courtauld Gallery                 1\n",
       "9          Félix Vallotton     Dallas Museum of Art                 1"
      ]
     },
     "execution_count": 11,
     "metadata": {},
     "output_type": "execute_result"
    }
   ],
   "source": [
    "top5_artist_by_museum = pd.DataFrame(result)\n",
    "top5_artist_by_museum.head(n=10)"
   ]
  },
  {
   "cell_type": "markdown",
   "id": "c939a930",
   "metadata": {},
   "source": [
    "Q8: check the opening hours of a museum"
   ]
  },
  {
   "cell_type": "code",
   "execution_count": null,
   "id": "7dc12e81",
   "metadata": {},
   "outputs": [
    {
     "name": "stdout",
     "output_type": "stream",
     "text": [
      " * postgresql://postgres@localhost:5432/paintings\n",
      "Done.\n",
      "Done.\n"
     ]
    },
    {
     "data": {
      "text/html": [
       "<div>\n",
       "<style scoped>\n",
       "    .dataframe tbody tr th:only-of-type {\n",
       "        vertical-align: middle;\n",
       "    }\n",
       "\n",
       "    .dataframe tbody tr th {\n",
       "        vertical-align: top;\n",
       "    }\n",
       "\n",
       "    .dataframe thead th {\n",
       "        text-align: right;\n",
       "    }\n",
       "</style>\n",
       "<table border=\"1\" class=\"dataframe\">\n",
       "  <thead>\n",
       "    <tr style=\"text-align: right;\">\n",
       "      <th></th>\n",
       "    </tr>\n",
       "  </thead>\n",
       "  <tbody>\n",
       "  </tbody>\n",
       "</table>\n",
       "</div>"
      ],
      "text/plain": [
       "Empty DataFrame\n",
       "Columns: []\n",
       "Index: []"
      ]
     },
     "execution_count": 103,
     "metadata": {},
     "output_type": "execute_result"
    }
   ],
   "source": [
    "%%sql\n",
    "--drop function check_opening_days(text);\n",
    "\n",
    "create or replace function check_opening_days(museum_name text)\n",
    "returns table (\n",
    "    museum text,\n",
    "    day text,\n",
    "    open time,\n",
    "    close time,\n",
    "    opening_hours text\n",
    ") as $$\n",
    "begin\n",
    "    return query\n",
    "    select a.name, b.day, b.open, b.close, to_char((b.close - b.open), 'HH24:MI') as opening_hours\n",
    "    from museum a\n",
    "    join museum_hours b on a.museum_id = b.museum_id\n",
    "    where a.name = museum_name;\n",
    "end;\n",
    "$$ language plpgsql;"
   ]
  },
  {
   "cell_type": "code",
   "execution_count": 104,
   "id": "45314379",
   "metadata": {},
   "outputs": [
    {
     "name": "stdout",
     "output_type": "stream",
     "text": [
      " * postgresql://postgres@localhost:5432/paintings\n",
      "6 rows affected.\n"
     ]
    },
    {
     "data": {
      "text/html": [
       "<div>\n",
       "<style scoped>\n",
       "    .dataframe tbody tr th:only-of-type {\n",
       "        vertical-align: middle;\n",
       "    }\n",
       "\n",
       "    .dataframe tbody tr th {\n",
       "        vertical-align: top;\n",
       "    }\n",
       "\n",
       "    .dataframe thead th {\n",
       "        text-align: right;\n",
       "    }\n",
       "</style>\n",
       "<table border=\"1\" class=\"dataframe\">\n",
       "  <thead>\n",
       "    <tr style=\"text-align: right;\">\n",
       "      <th></th>\n",
       "      <th>museum</th>\n",
       "      <th>day</th>\n",
       "      <th>open</th>\n",
       "      <th>close</th>\n",
       "      <th>opening_hours</th>\n",
       "    </tr>\n",
       "  </thead>\n",
       "  <tbody>\n",
       "    <tr>\n",
       "      <th>0</th>\n",
       "      <td>Chrysler Museum of Art</td>\n",
       "      <td>Sunday</td>\n",
       "      <td>12:00:00</td>\n",
       "      <td>17:00:00</td>\n",
       "      <td>05:00</td>\n",
       "    </tr>\n",
       "    <tr>\n",
       "      <th>1</th>\n",
       "      <td>Chrysler Museum of Art</td>\n",
       "      <td>Tuesday</td>\n",
       "      <td>10:00:00</td>\n",
       "      <td>17:00:00</td>\n",
       "      <td>07:00</td>\n",
       "    </tr>\n",
       "    <tr>\n",
       "      <th>2</th>\n",
       "      <td>Chrysler Museum of Art</td>\n",
       "      <td>Wednesday</td>\n",
       "      <td>10:00:00</td>\n",
       "      <td>17:00:00</td>\n",
       "      <td>07:00</td>\n",
       "    </tr>\n",
       "    <tr>\n",
       "      <th>3</th>\n",
       "      <td>Chrysler Museum of Art</td>\n",
       "      <td>Thusday</td>\n",
       "      <td>10:00:00</td>\n",
       "      <td>17:00:00</td>\n",
       "      <td>07:00</td>\n",
       "    </tr>\n",
       "    <tr>\n",
       "      <th>4</th>\n",
       "      <td>Chrysler Museum of Art</td>\n",
       "      <td>Friday</td>\n",
       "      <td>10:00:00</td>\n",
       "      <td>17:00:00</td>\n",
       "      <td>07:00</td>\n",
       "    </tr>\n",
       "    <tr>\n",
       "      <th>5</th>\n",
       "      <td>Chrysler Museum of Art</td>\n",
       "      <td>Saturday</td>\n",
       "      <td>10:00:00</td>\n",
       "      <td>17:00:00</td>\n",
       "      <td>07:00</td>\n",
       "    </tr>\n",
       "  </tbody>\n",
       "</table>\n",
       "</div>"
      ],
      "text/plain": [
       "                   museum        day      open     close opening_hours\n",
       "0  Chrysler Museum of Art     Sunday  12:00:00  17:00:00         05:00\n",
       "1  Chrysler Museum of Art    Tuesday  10:00:00  17:00:00         07:00\n",
       "2  Chrysler Museum of Art  Wednesday  10:00:00  17:00:00         07:00\n",
       "3  Chrysler Museum of Art    Thusday  10:00:00  17:00:00         07:00\n",
       "4  Chrysler Museum of Art     Friday  10:00:00  17:00:00         07:00\n",
       "5  Chrysler Museum of Art   Saturday  10:00:00  17:00:00         07:00"
      ]
     },
     "execution_count": 104,
     "metadata": {},
     "output_type": "execute_result"
    }
   ],
   "source": [
    "%sql SELECT * from check_opening_days('Chrysler Museum of Art');\n"
   ]
  },
  {
   "cell_type": "markdown",
   "id": "32d63f2e",
   "metadata": {},
   "source": [
    "Q9: check the museum where an artwork is stored"
   ]
  },
  {
   "cell_type": "code",
   "execution_count": null,
   "id": "45da07dd",
   "metadata": {},
   "outputs": [
    {
     "name": "stdout",
     "output_type": "stream",
     "text": [
      " * postgresql://postgres@localhost:5432/paintings\n",
      "Done.\n"
     ]
    },
    {
     "data": {
      "text/html": [
       "<div>\n",
       "<style scoped>\n",
       "    .dataframe tbody tr th:only-of-type {\n",
       "        vertical-align: middle;\n",
       "    }\n",
       "\n",
       "    .dataframe tbody tr th {\n",
       "        vertical-align: top;\n",
       "    }\n",
       "\n",
       "    .dataframe thead th {\n",
       "        text-align: right;\n",
       "    }\n",
       "</style>\n",
       "<table border=\"1\" class=\"dataframe\">\n",
       "  <thead>\n",
       "    <tr style=\"text-align: right;\">\n",
       "      <th></th>\n",
       "    </tr>\n",
       "  </thead>\n",
       "  <tbody>\n",
       "  </tbody>\n",
       "</table>\n",
       "</div>"
      ],
      "text/plain": [
       "Empty DataFrame\n",
       "Columns: []\n",
       "Index: []"
      ]
     },
     "execution_count": 165,
     "metadata": {},
     "output_type": "execute_result"
    }
   ],
   "source": [
    "%%sql\n",
    "\n",
    "--drop type address_type;\n",
    "\n",
    "create type address_type as (\n",
    "    address text,\n",
    "    city text,\n",
    "    country text\n",
    "); \n",
    "\n",
    "\n",
    "--drop function collection_museum(text);\n",
    "\n",
    "create or replace function collection_museum(artwork text)\n",
    "returns table (\n",
    "    name text,\n",
    "    style text,\n",
    "    artist text,\n",
    "    museum text,\n",
    "    address address_type,\n",
    "    url text\n",
    ") AS $$\n",
    "BEGIN\n",
    "    RETURN QUERY\n",
    "    SELECT DISTINCT \n",
    "        b.name, \n",
    "        b.style, \n",
    "        a.full_name, \n",
    "        c.name, \n",
    "        row(c.address, c.city, c.country)::address_type, \n",
    "        c.url\n",
    "    FROM artist a\n",
    "    JOIN work b on a.artist_id=b.artist_id\n",
    "    JOIN museum c on b.museum_id=c.museum_id\n",
    "    WHERE b.name=artwork;\n",
    "END;\n",
    "$$ LANGUAGE plpgsql;"
   ]
  },
  {
   "cell_type": "code",
   "execution_count": 230,
   "id": "7cde0d51",
   "metadata": {},
   "outputs": [
    {
     "name": "stdout",
     "output_type": "stream",
     "text": [
      " * postgresql://postgres@localhost:5432/paintings\n",
      "1 rows affected.\n"
     ]
    },
    {
     "data": {
      "text/html": [
       "<div>\n",
       "<style scoped>\n",
       "    .dataframe tbody tr th:only-of-type {\n",
       "        vertical-align: middle;\n",
       "    }\n",
       "\n",
       "    .dataframe tbody tr th {\n",
       "        vertical-align: top;\n",
       "    }\n",
       "\n",
       "    .dataframe thead th {\n",
       "        text-align: right;\n",
       "    }\n",
       "</style>\n",
       "<table border=\"1\" class=\"dataframe\">\n",
       "  <thead>\n",
       "    <tr style=\"text-align: right;\">\n",
       "      <th></th>\n",
       "      <th>name</th>\n",
       "      <th>style</th>\n",
       "      <th>artist</th>\n",
       "      <th>museum</th>\n",
       "      <th>address</th>\n",
       "      <th>url</th>\n",
       "    </tr>\n",
       "  </thead>\n",
       "  <tbody>\n",
       "    <tr>\n",
       "      <th>0</th>\n",
       "      <td>Dante and Virgil in Hell</td>\n",
       "      <td>Classicism</td>\n",
       "      <td>William Adolphe Bouguereau</td>\n",
       "      <td>Musée d'Orsay</td>\n",
       "      <td>(\"1 Rue de la Légion d'Honneur\",Paris,France)</td>\n",
       "      <td>https://www.musee-orsay.fr/en</td>\n",
       "    </tr>\n",
       "  </tbody>\n",
       "</table>\n",
       "</div>"
      ],
      "text/plain": [
       "                       name       style                      artist  \\\n",
       "0  Dante and Virgil in Hell  Classicism  William Adolphe Bouguereau   \n",
       "\n",
       "          museum                                        address  \\\n",
       "0  Musée d'Orsay  (\"1 Rue de la Légion d'Honneur\",Paris,France)   \n",
       "\n",
       "                             url  \n",
       "0  https://www.musee-orsay.fr/en  "
      ]
     },
     "execution_count": 230,
     "metadata": {},
     "output_type": "execute_result"
    }
   ],
   "source": [
    "%sql select * from collection_museum('Dante and Virgil in Hell')"
   ]
  },
  {
   "cell_type": "markdown",
   "id": "314ed1b6",
   "metadata": {},
   "source": [
    "Q10:check the infomation, such as style, subject, product size, and price of an artwork"
   ]
  },
  {
   "cell_type": "code",
   "execution_count": 12,
   "id": "4cb1873b",
   "metadata": {},
   "outputs": [
    {
     "name": "stdout",
     "output_type": "stream",
     "text": [
      " * postgresql://postgres@localhost:5432/paintings\n",
      "Done.\n",
      "Done.\n"
     ]
    },
    {
     "data": {
      "text/plain": [
       "[]"
      ]
     },
     "execution_count": 12,
     "metadata": {},
     "output_type": "execute_result"
    }
   ],
   "source": [
    "%%sql \n",
    "CREATE EXTENSION IF NOT EXISTS plpython3u;\n",
    "\n",
    "CREATE OR REPLACE FUNCTION check_artwork_info(artwork TEXT)\n",
    "RETURNS table ( \n",
    "    name text,\n",
    "    subject text,\n",
    "    size text,\n",
    "    sale_price integer,\n",
    "    regular_price integer,\n",
    "    url text\n",
    ") \n",
    "AS $$\n",
    "import pandas as pd\n",
    "sql = \"\"\"\n",
    "SELECT DISTINCT a.name as name, b.subject, \n",
    "  case \n",
    "    when d.label is not null\n",
    "    then d.label\n",
    "    else c.invalid_size_id\n",
    "  end as size,\n",
    "  c.sale_price,\n",
    "  c.regular_price,\n",
    "  e.url\n",
    "FROM work a\n",
    "JOIN subject b ON a.work_id=b.work_id\n",
    "JOIN product_size c ON c.work_id=a.work_id\n",
    "LEFT JOIN canvas_size d ON d.size_id=c.size_id\n",
    "JOIN image_link e ON e.work_id=a.work_id\n",
    "WHERE a.name=\"\"\" + plpy.quote_literal(artwork)\n",
    "    \n",
    "result = plpy.execute(sql)\n",
    "data = [dict(row) for row in result]\n",
    "df = pd.DataFrame(data) \n",
    "if df.shape[0] == 0:\n",
    "  return df.to_dict('records')\n",
    "else:\n",
    "  colnames = df.columns.to_list()\n",
    "  colnames.remove('subject')\n",
    "  dup_idx = df.loc[:,colnames].duplicated()\n",
    "  clean_df = df[~dup_idx].reset_index(drop=True)\n",
    "  dup_df = df[dup_idx].reset_index(drop=True)\n",
    "  clean_df['subject'] = clean_df['subject'] + '/' + dup_df['subject']\n",
    "\n",
    "  return clean_df.to_dict('records')\n",
    "$$ LANGUAGE plpython3u;\n",
    "\n",
    "\n"
   ]
  },
  {
   "cell_type": "code",
   "execution_count": 13,
   "id": "0d9979a4",
   "metadata": {},
   "outputs": [
    {
     "name": "stdout",
     "output_type": "stream",
     "text": [
      " * postgresql://postgres@localhost:5432/paintings\n",
      "5 rows affected.\n",
      "Returning data to local variable result\n"
     ]
    }
   ],
   "source": [
    "%sql result << select * from check_artwork_info('Mount Adams, Washington')"
   ]
  },
  {
   "cell_type": "code",
   "execution_count": 14,
   "id": "0e8259cf",
   "metadata": {},
   "outputs": [
    {
     "name": "stdout",
     "output_type": "stream",
     "text": [
      "+-------------------------+---------+----------------------------+------------+---------------+-------------------------------------------------------------------------------------------------------------------------------------------------------------------------------------------------------------------------------------------------------------------------------------+\n",
      "|           name          | subject |            size            | sale_price | regular_price |                                                                                                                                         url                                                                                                                                         |\n",
      "+-------------------------+---------+----------------------------+------------+---------------+-------------------------------------------------------------------------------------------------------------------------------------------------------------------------------------------------------------------------------------------------------------------------------------+\n",
      "| Mount Adams, Washington |   nan   |  36\" x 24\"(91 cm x 61 cm)  |    315     |      555      | https://v5.airtableusercontent.com/v1/15/15/1677362400000/vbRZHqgcUmBx2hD5gk7nSg/12R4SmbMz-3Tq8mCk9jIxcNah4OS-QYNSazsvztmyT8_mSiSOFFEkMKqW68tuxbQFWSN5DMf2L7AYGIHrDBQOxU1wGhvMuf0irdF0BUD3kSyT75nMwt5pbozZZ7k166xzdYOpZcc90EA5jKINDv_PQ/94PJTRatCyMt5wxeT_gRkircfi-KXszyXKbd6NUkyxA |\n",
      "| Mount Adams, Washington |   nan   | 46\" x 30\"(117 cm x 76 cm)  |    405     |      735      | https://v5.airtableusercontent.com/v1/15/15/1677362400000/vbRZHqgcUmBx2hD5gk7nSg/12R4SmbMz-3Tq8mCk9jIxcNah4OS-QYNSazsvztmyT8_mSiSOFFEkMKqW68tuxbQFWSN5DMf2L7AYGIHrDBQOxU1wGhvMuf0irdF0BUD3kSyT75nMwt5pbozZZ7k166xzdYOpZcc90EA5jKINDv_PQ/94PJTRatCyMt5wxeT_gRkircfi-KXszyXKbd6NUkyxA |\n",
      "| Mount Adams, Washington |   nan   | 54\" x 36\"(137 cm x 91 cm)  |    515     |      955      | https://v5.airtableusercontent.com/v1/15/15/1677362400000/vbRZHqgcUmBx2hD5gk7nSg/12R4SmbMz-3Tq8mCk9jIxcNah4OS-QYNSazsvztmyT8_mSiSOFFEkMKqW68tuxbQFWSN5DMf2L7AYGIHrDBQOxU1wGhvMuf0irdF0BUD3kSyT75nMwt5pbozZZ7k166xzdYOpZcc90EA5jKINDv_PQ/94PJTRatCyMt5wxeT_gRkircfi-KXszyXKbd6NUkyxA |\n",
      "| Mount Adams, Washington |   nan   | 60\" x 40\"(152 cm x 102 cm) |    585     |      1095     | https://v5.airtableusercontent.com/v1/15/15/1677362400000/vbRZHqgcUmBx2hD5gk7nSg/12R4SmbMz-3Tq8mCk9jIxcNah4OS-QYNSazsvztmyT8_mSiSOFFEkMKqW68tuxbQFWSN5DMf2L7AYGIHrDBQOxU1wGhvMuf0irdF0BUD3kSyT75nMwt5pbozZZ7k166xzdYOpZcc90EA5jKINDv_PQ/94PJTRatCyMt5wxeT_gRkircfi-KXszyXKbd6NUkyxA |\n",
      "| Mount Adams, Washington |   nan   | 72\" x 48\"(183 cm x 122 cm) |    745     |      1415     | https://v5.airtableusercontent.com/v1/15/15/1677362400000/vbRZHqgcUmBx2hD5gk7nSg/12R4SmbMz-3Tq8mCk9jIxcNah4OS-QYNSazsvztmyT8_mSiSOFFEkMKqW68tuxbQFWSN5DMf2L7AYGIHrDBQOxU1wGhvMuf0irdF0BUD3kSyT75nMwt5pbozZZ7k166xzdYOpZcc90EA5jKINDv_PQ/94PJTRatCyMt5wxeT_gRkircfi-KXszyXKbd6NUkyxA |\n",
      "+-------------------------+---------+----------------------------+------------+---------------+-------------------------------------------------------------------------------------------------------------------------------------------------------------------------------------------------------------------------------------------------------------------------------------+\n"
     ]
    }
   ],
   "source": [
    "print(result)"
   ]
  }
 ],
 "metadata": {
  "kernelspec": {
   "display_name": "base",
   "language": "python",
   "name": "python3"
  },
  "language_info": {
   "codemirror_mode": {
    "name": "ipython",
    "version": 3
   },
   "file_extension": ".py",
   "mimetype": "text/x-python",
   "name": "python",
   "nbconvert_exporter": "python",
   "pygments_lexer": "ipython3",
   "version": "3.10.12"
  }
 },
 "nbformat": 4,
 "nbformat_minor": 5
}
